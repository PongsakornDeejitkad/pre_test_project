{
 "cells": [
  {
   "cell_type": "code",
   "execution_count": 1,
   "metadata": {},
   "outputs": [],
   "source": [
    "from predictive_model.clothing_recommender import clothing_recommender"
   ]
  },
  {
   "cell_type": "code",
   "execution_count": 2,
   "metadata": {},
   "outputs": [
    {
     "name": "stdout",
     "output_type": "stream",
     "text": [
      "                precision    recall  f1-score   support\n",
      "\n",
      "  Bohemian Set       1.00      1.00      1.00         1\n",
      "  Business Set       0.00      0.00      0.00         1\n",
      "    Casual Set       0.82      0.90      0.86        10\n",
      "   Elegant Set       1.00      0.67      0.80         3\n",
      "    Formal Set       0.50      1.00      0.67         1\n",
      "    Sports Set       0.50      1.00      0.67         1\n",
      "Streetwear Set       0.00      0.00      0.00         1\n",
      "   Vintage Set       1.00      1.00      1.00         1\n",
      "\n",
      "      accuracy                           0.79        19\n",
      "     macro avg       0.60      0.70      0.62        19\n",
      "  weighted avg       0.75      0.79      0.75        19\n",
      "\n"
     ]
    },
    {
     "name": "stderr",
     "output_type": "stream",
     "text": [
      "/Users/ohmmys/miniconda3/envs/brainiacs/lib/python3.12/site-packages/sklearn/metrics/_classification.py:1531: UndefinedMetricWarning: Precision is ill-defined and being set to 0.0 in labels with no predicted samples. Use `zero_division` parameter to control this behavior.\n",
      "  _warn_prf(average, modifier, f\"{metric.capitalize()} is\", len(result))\n",
      "/Users/ohmmys/miniconda3/envs/brainiacs/lib/python3.12/site-packages/sklearn/metrics/_classification.py:1531: UndefinedMetricWarning: Precision is ill-defined and being set to 0.0 in labels with no predicted samples. Use `zero_division` parameter to control this behavior.\n",
      "  _warn_prf(average, modifier, f\"{metric.capitalize()} is\", len(result))\n",
      "/Users/ohmmys/miniconda3/envs/brainiacs/lib/python3.12/site-packages/sklearn/metrics/_classification.py:1531: UndefinedMetricWarning: Precision is ill-defined and being set to 0.0 in labels with no predicted samples. Use `zero_division` parameter to control this behavior.\n",
      "  _warn_prf(average, modifier, f\"{metric.capitalize()} is\", len(result))\n"
     ]
    }
   ],
   "source": [
    "recommender = clothing_recommender()\n",
    "recommender.load_data()\n",
    "recommender.encode_features()\n",
    "X_train, X_test, y_train, y_test = recommender.split_data()\n",
    "recommender.train_model(X_train, y_train)\n",
    "recommender.evaluate_model(X_test, y_test)\n"
   ]
  },
  {
   "cell_type": "code",
   "execution_count": 3,
   "metadata": {},
   "outputs": [
    {
     "name": "stdout",
     "output_type": "stream",
     "text": [
      "Recommended clothing item: Casual Set\n"
     ]
    },
    {
     "name": "stderr",
     "output_type": "stream",
     "text": [
      "/Users/ohmmys/miniconda3/envs/brainiacs/lib/python3.12/site-packages/sklearn/base.py:493: UserWarning: X does not have valid feature names, but RandomForestClassifier was fitted with feature names\n",
      "  warnings.warn(\n"
     ]
    }
   ],
   "source": [
    "# # Initialize a new instance of the ClothingRecommender\n",
    "# recommender = ClothingRecommender(data_path='data/products.csv')\n",
    "\n",
    "# # Load the model and encoders\n",
    "# recommender.load_model(model_path='saved_model', encoders_path='saved_encoders')\n",
    "recommender.save_model('best_param/','encoders/')\n",
    "new_input = {\n",
    "    'style_preference': 'Casual',\n",
    "    'favorite_season': 'Summer',\n",
    "    'fabric_preference': 'Cotton',\n",
    "    'pattern_preference': 'Plain',\n",
    "    'weather_today': 'Hot and humid'\n",
    "}\n",
    "\n",
    "predicted_item = recommender.predict_recommendation(new_input)\n",
    "print(\"Recommended clothing item:\", predicted_item)"
   ]
  },
  {
   "cell_type": "code",
   "execution_count": null,
   "metadata": {},
   "outputs": [],
   "source": [
    "\n"
   ]
  }
 ],
 "metadata": {
  "kernelspec": {
   "display_name": "brainiacs",
   "language": "python",
   "name": "python3"
  },
  "language_info": {
   "codemirror_mode": {
    "name": "ipython",
    "version": 3
   },
   "file_extension": ".py",
   "mimetype": "text/x-python",
   "name": "python",
   "nbconvert_exporter": "python",
   "pygments_lexer": "ipython3",
   "version": "3.12.4"
  }
 },
 "nbformat": 4,
 "nbformat_minor": 2
}
